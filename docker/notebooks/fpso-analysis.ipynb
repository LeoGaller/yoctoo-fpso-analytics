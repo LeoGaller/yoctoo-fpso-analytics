{
 "cells": [
  {
   "cell_type": "markdown",
   "id": "075c14f4-0685-49b5-b5b8-8f8a803b7406",
   "metadata": {},
   "source": [
    "# SHAPE\n",
    "### Tech Test\n",
    "#### Leonardo Lacerda Galler"
   ]
  },
  {
   "cell_type": "markdown",
   "id": "5b67fcb0-075f-4385-9745-4eb81346b591",
   "metadata": {},
   "source": [
    "#### Details:\n",
    "The assignment involves an FPSO (Floating Production, Storage, and Offloading) vessel data, and we need your help with equipment failure data ingestion.\n",
    "The FPSO vessel contains some equipment and each equipment have multiple sensors. Every time a failure happens, we get all the sensors data from the failed equipment, and we store this information in a log file (the time is in GMT time zone).\n",
    "\n",
    "#### Expectations -  answer a few questions related to January 2020\n",
    "1 – Total equipment failures that happened?\n",
    "\n",
    "2 – Which equipment code had most failures?\n",
    "\n",
    "3 – Average amount of failures across equipment group, ordered by the number of failures in ascending order?\n"
   ]
  },
  {
   "cell_type": "markdown",
   "id": "c27ffda1-b34c-43fd-95b4-f21084587a97",
   "metadata": {},
   "source": [
    "### Accessing and describing the data"
   ]
  },
  {
   "cell_type": "code",
   "execution_count": 1,
   "id": "85f838ab-3ab7-43a8-8b25-721340e53bff",
   "metadata": {},
   "outputs": [],
   "source": [
    "import pandas as pd\n",
    "path_folder = \"/home/jovyan/docker/dados/\""
   ]
  },
  {
   "cell_type": "markdown",
   "id": "b2999dea-053e-4c52-9578-9c9493c767bd",
   "metadata": {},
   "source": [
    "#### Reading the files and creating dataframes\n",
    "    1. Reading the equipment file"
   ]
  },
  {
   "cell_type": "code",
   "execution_count": 2,
   "id": "a3fe535d-8329-46f0-98fb-9ff2396893de",
   "metadata": {},
   "outputs": [
    {
     "data": {
      "text/html": [
       "<div>\n",
       "<style scoped>\n",
       "    .dataframe tbody tr th:only-of-type {\n",
       "        vertical-align: middle;\n",
       "    }\n",
       "\n",
       "    .dataframe tbody tr th {\n",
       "        vertical-align: top;\n",
       "    }\n",
       "\n",
       "    .dataframe thead th {\n",
       "        text-align: right;\n",
       "    }\n",
       "</style>\n",
       "<table border=\"1\" class=\"dataframe\">\n",
       "  <thead>\n",
       "    <tr style=\"text-align: right;\">\n",
       "      <th></th>\n",
       "      <th>equipment_id</th>\n",
       "      <th>code</th>\n",
       "      <th>group_name</th>\n",
       "    </tr>\n",
       "  </thead>\n",
       "  <tbody>\n",
       "    <tr>\n",
       "      <th>0</th>\n",
       "      <td>1</td>\n",
       "      <td>5310B9D7</td>\n",
       "      <td>FGHQWR2Q</td>\n",
       "    </tr>\n",
       "    <tr>\n",
       "      <th>1</th>\n",
       "      <td>2</td>\n",
       "      <td>43B81579</td>\n",
       "      <td>VAPQY59S</td>\n",
       "    </tr>\n",
       "    <tr>\n",
       "      <th>2</th>\n",
       "      <td>3</td>\n",
       "      <td>E1AD07D4</td>\n",
       "      <td>FGHQWR2Q</td>\n",
       "    </tr>\n",
       "    <tr>\n",
       "      <th>3</th>\n",
       "      <td>4</td>\n",
       "      <td>ADE40E7F</td>\n",
       "      <td>9N127Z5P</td>\n",
       "    </tr>\n",
       "    <tr>\n",
       "      <th>4</th>\n",
       "      <td>5</td>\n",
       "      <td>78FFAD0C</td>\n",
       "      <td>9N127Z5P</td>\n",
       "    </tr>\n",
       "    <tr>\n",
       "      <th>5</th>\n",
       "      <td>6</td>\n",
       "      <td>9AD15F7E</td>\n",
       "      <td>PA92NCXZ</td>\n",
       "    </tr>\n",
       "    <tr>\n",
       "      <th>6</th>\n",
       "      <td>7</td>\n",
       "      <td>E54B5C3A</td>\n",
       "      <td>FGHQWR2Q</td>\n",
       "    </tr>\n",
       "    <tr>\n",
       "      <th>7</th>\n",
       "      <td>8</td>\n",
       "      <td>86083278</td>\n",
       "      <td>NQWPA8D3</td>\n",
       "    </tr>\n",
       "    <tr>\n",
       "      <th>8</th>\n",
       "      <td>9</td>\n",
       "      <td>3329175B</td>\n",
       "      <td>VAPQY59S</td>\n",
       "    </tr>\n",
       "    <tr>\n",
       "      <th>9</th>\n",
       "      <td>10</td>\n",
       "      <td>98B84035</td>\n",
       "      <td>NQWPA8D3</td>\n",
       "    </tr>\n",
       "    <tr>\n",
       "      <th>10</th>\n",
       "      <td>11</td>\n",
       "      <td>09C37FB8</td>\n",
       "      <td>PA92NCXZ</td>\n",
       "    </tr>\n",
       "    <tr>\n",
       "      <th>11</th>\n",
       "      <td>12</td>\n",
       "      <td>CF304D24</td>\n",
       "      <td>FGHQWR2Q</td>\n",
       "    </tr>\n",
       "    <tr>\n",
       "      <th>12</th>\n",
       "      <td>13</td>\n",
       "      <td>4E834E81</td>\n",
       "      <td>Z9K1SAP4</td>\n",
       "    </tr>\n",
       "    <tr>\n",
       "      <th>13</th>\n",
       "      <td>14</td>\n",
       "      <td>2C195700</td>\n",
       "      <td>VAPQY59S</td>\n",
       "    </tr>\n",
       "  </tbody>\n",
       "</table>\n",
       "</div>"
      ],
      "text/plain": [
       "    equipment_id      code group_name\n",
       "0              1  5310B9D7   FGHQWR2Q\n",
       "1              2  43B81579   VAPQY59S\n",
       "2              3  E1AD07D4   FGHQWR2Q\n",
       "3              4  ADE40E7F   9N127Z5P\n",
       "4              5  78FFAD0C   9N127Z5P\n",
       "5              6  9AD15F7E   PA92NCXZ\n",
       "6              7  E54B5C3A   FGHQWR2Q\n",
       "7              8  86083278   NQWPA8D3\n",
       "8              9  3329175B   VAPQY59S\n",
       "9             10  98B84035   NQWPA8D3\n",
       "10            11  09C37FB8   PA92NCXZ\n",
       "11            12  CF304D24   FGHQWR2Q\n",
       "12            13  4E834E81   Z9K1SAP4\n",
       "13            14  2C195700   VAPQY59S"
      ]
     },
     "execution_count": 2,
     "metadata": {},
     "output_type": "execute_result"
    }
   ],
   "source": [
    "equipemnt_df = pd.read_json(path_folder+\"equipment.json\", orient=\"records\")\n",
    "equipemnt_df"
   ]
  },
  {
   "cell_type": "code",
   "execution_count": 3,
   "id": "7e510009-cc2d-4c47-8001-e900a8f32081",
   "metadata": {},
   "outputs": [
    {
     "data": {
      "text/plain": [
       "<bound method DataFrame.info of     equipment_id      code group_name\n",
       "0              1  5310B9D7   FGHQWR2Q\n",
       "1              2  43B81579   VAPQY59S\n",
       "2              3  E1AD07D4   FGHQWR2Q\n",
       "3              4  ADE40E7F   9N127Z5P\n",
       "4              5  78FFAD0C   9N127Z5P\n",
       "5              6  9AD15F7E   PA92NCXZ\n",
       "6              7  E54B5C3A   FGHQWR2Q\n",
       "7              8  86083278   NQWPA8D3\n",
       "8              9  3329175B   VAPQY59S\n",
       "9             10  98B84035   NQWPA8D3\n",
       "10            11  09C37FB8   PA92NCXZ\n",
       "11            12  CF304D24   FGHQWR2Q\n",
       "12            13  4E834E81   Z9K1SAP4\n",
       "13            14  2C195700   VAPQY59S>"
      ]
     },
     "execution_count": 3,
     "metadata": {},
     "output_type": "execute_result"
    }
   ],
   "source": [
    "equipemnt_df.info"
   ]
  },
  {
   "cell_type": "markdown",
   "id": "4af6068b-4aef-4fd8-810a-ba2af70a8d05",
   "metadata": {},
   "source": [
    "    2. Reading the equipment_sensors"
   ]
  },
  {
   "cell_type": "code",
   "execution_count": 4,
   "id": "bb013fcb-b9f5-4b10-9b41-a21004e3b18b",
   "metadata": {},
   "outputs": [
    {
     "data": {
      "text/html": [
       "<div>\n",
       "<style scoped>\n",
       "    .dataframe tbody tr th:only-of-type {\n",
       "        vertical-align: middle;\n",
       "    }\n",
       "\n",
       "    .dataframe tbody tr th {\n",
       "        vertical-align: top;\n",
       "    }\n",
       "\n",
       "    .dataframe thead th {\n",
       "        text-align: right;\n",
       "    }\n",
       "</style>\n",
       "<table border=\"1\" class=\"dataframe\">\n",
       "  <thead>\n",
       "    <tr style=\"text-align: right;\">\n",
       "      <th></th>\n",
       "      <th>equipment_id</th>\n",
       "      <th>sensor_id</th>\n",
       "    </tr>\n",
       "  </thead>\n",
       "  <tbody>\n",
       "    <tr>\n",
       "      <th>0</th>\n",
       "      <td>4</td>\n",
       "      <td>1</td>\n",
       "    </tr>\n",
       "    <tr>\n",
       "      <th>1</th>\n",
       "      <td>8</td>\n",
       "      <td>2</td>\n",
       "    </tr>\n",
       "    <tr>\n",
       "      <th>2</th>\n",
       "      <td>13</td>\n",
       "      <td>3</td>\n",
       "    </tr>\n",
       "    <tr>\n",
       "      <th>3</th>\n",
       "      <td>11</td>\n",
       "      <td>4</td>\n",
       "    </tr>\n",
       "    <tr>\n",
       "      <th>4</th>\n",
       "      <td>1</td>\n",
       "      <td>5</td>\n",
       "    </tr>\n",
       "    <tr>\n",
       "      <th>...</th>\n",
       "      <td>...</td>\n",
       "      <td>...</td>\n",
       "    </tr>\n",
       "    <tr>\n",
       "      <th>95</th>\n",
       "      <td>12</td>\n",
       "      <td>96</td>\n",
       "    </tr>\n",
       "    <tr>\n",
       "      <th>96</th>\n",
       "      <td>4</td>\n",
       "      <td>97</td>\n",
       "    </tr>\n",
       "    <tr>\n",
       "      <th>97</th>\n",
       "      <td>14</td>\n",
       "      <td>98</td>\n",
       "    </tr>\n",
       "    <tr>\n",
       "      <th>98</th>\n",
       "      <td>14</td>\n",
       "      <td>99</td>\n",
       "    </tr>\n",
       "    <tr>\n",
       "      <th>99</th>\n",
       "      <td>3</td>\n",
       "      <td>100</td>\n",
       "    </tr>\n",
       "  </tbody>\n",
       "</table>\n",
       "<p>100 rows × 2 columns</p>\n",
       "</div>"
      ],
      "text/plain": [
       "    equipment_id  sensor_id\n",
       "0              4          1\n",
       "1              8          2\n",
       "2             13          3\n",
       "3             11          4\n",
       "4              1          5\n",
       "..           ...        ...\n",
       "95            12         96\n",
       "96             4         97\n",
       "97            14         98\n",
       "98            14         99\n",
       "99             3        100\n",
       "\n",
       "[100 rows x 2 columns]"
      ]
     },
     "execution_count": 4,
     "metadata": {},
     "output_type": "execute_result"
    }
   ],
   "source": [
    "equip_sensor_df = pd.read_csv(path_folder+\"equipment_sensors.csv\", sep=\";\")\n",
    "equip_sensor_df"
   ]
  },
  {
   "cell_type": "code",
   "execution_count": 5,
   "id": "9127516c-52e5-4281-bb68-9d79b16a95fe",
   "metadata": {},
   "outputs": [
    {
     "data": {
      "text/plain": [
       "<bound method DataFrame.info of     equipment_id  sensor_id\n",
       "0              4          1\n",
       "1              8          2\n",
       "2             13          3\n",
       "3             11          4\n",
       "4              1          5\n",
       "..           ...        ...\n",
       "95            12         96\n",
       "96             4         97\n",
       "97            14         98\n",
       "98            14         99\n",
       "99             3        100\n",
       "\n",
       "[100 rows x 2 columns]>"
      ]
     },
     "execution_count": 5,
     "metadata": {},
     "output_type": "execute_result"
    }
   ],
   "source": [
    "equip_sensor_df.info"
   ]
  },
  {
   "cell_type": "markdown",
   "id": "9c93320b-7d31-4de9-9fa6-6672353d1e9e",
   "metadata": {},
   "source": [
    "    3. Reading the log file (The log file is very complex and will need more attention)"
   ]
  },
  {
   "cell_type": "code",
   "execution_count": 6,
   "id": "da20974f-ebce-4977-bc2c-3424d8bf26c4",
   "metadata": {},
   "outputs": [],
   "source": [
    "# Read the current file\n",
    "log_data = open(path_folder+\"equipment_failure_sensors.log\",\"r\")\n",
    "\n",
    "# Will create a new file\n",
    "new_file = open(path_folder+\"equipment_failure_sensors_new.log\",\"a\")"
   ]
  },
  {
   "cell_type": "code",
   "execution_count": 7,
   "id": "df24eab4-15cb-4f12-ab4d-5c5eab08394b",
   "metadata": {},
   "outputs": [],
   "source": [
    "for line in log_data.readlines():\n",
    "    new_file.write(line.replace(\"[\",\"\")\\\n",
    "        .replace(\"]\",\"\")\\\n",
    "        .replace(\"\\t\",\";\")\\\n",
    "        .replace(\"sensor\",\"sensor \")\\\n",
    "        .replace(\"temperature;\",\"temperature=\")\\\n",
    "        .replace(\"vibration;\",\"vibration=\")\\\n",
    "        .replace(\":;\",\";\")\\\n",
    "        .replace(\"(\",\"\")\\\n",
    "        .replace(\")\",\"\")\\\n",
    "        .replace(\",\",\";\"))"
   ]
  },
  {
   "cell_type": "code",
   "execution_count": 8,
   "id": "e8a5e917-65d7-4dd9-9c44-7ec5bcd70cf3",
   "metadata": {},
   "outputs": [],
   "source": [
    "# Closing the connections\n",
    "log_data.close()\n",
    "new_file.close()"
   ]
  },
  {
   "cell_type": "markdown",
   "id": "0d037902-79a8-4bb6-9298-684d0786bd91",
   "metadata": {},
   "source": [
    "    4. After the initial wrangling of the log data, now we structure it more with pandas"
   ]
  },
  {
   "cell_type": "code",
   "execution_count": 9,
   "id": "40ffb816-3158-40fe-b6a3-52ab9e8a5c40",
   "metadata": {},
   "outputs": [
    {
     "data": {
      "text/html": [
       "<div>\n",
       "<style scoped>\n",
       "    .dataframe tbody tr th:only-of-type {\n",
       "        vertical-align: middle;\n",
       "    }\n",
       "\n",
       "    .dataframe tbody tr th {\n",
       "        vertical-align: top;\n",
       "    }\n",
       "\n",
       "    .dataframe thead th {\n",
       "        text-align: right;\n",
       "    }\n",
       "</style>\n",
       "<table border=\"1\" class=\"dataframe\">\n",
       "  <thead>\n",
       "    <tr style=\"text-align: right;\">\n",
       "      <th></th>\n",
       "      <th>datetime</th>\n",
       "      <th>status</th>\n",
       "      <th>sensor</th>\n",
       "      <th>temperature</th>\n",
       "      <th>vibration</th>\n",
       "    </tr>\n",
       "  </thead>\n",
       "  <tbody>\n",
       "    <tr>\n",
       "      <th>0</th>\n",
       "      <td>2019-12-10 10:46:09</td>\n",
       "      <td>ERROR</td>\n",
       "      <td>sensor 5</td>\n",
       "      <td>temperature=365.26</td>\n",
       "      <td>vibration=-6305.32</td>\n",
       "    </tr>\n",
       "    <tr>\n",
       "      <th>1</th>\n",
       "      <td>2019-12-10 10:46:09</td>\n",
       "      <td>ERROR</td>\n",
       "      <td>sensor 43</td>\n",
       "      <td>temperature=458.47</td>\n",
       "      <td>vibration=-58.41</td>\n",
       "    </tr>\n",
       "    <tr>\n",
       "      <th>2</th>\n",
       "      <td>2019-12-10 10:46:09</td>\n",
       "      <td>ERROR</td>\n",
       "      <td>sensor 44</td>\n",
       "      <td>temperature=57.16</td>\n",
       "      <td>vibration=-999.66</td>\n",
       "    </tr>\n",
       "    <tr>\n",
       "      <th>3</th>\n",
       "      <td>2019-12-10 10:46:09</td>\n",
       "      <td>ERROR</td>\n",
       "      <td>sensor 67</td>\n",
       "      <td>temperature=106.69</td>\n",
       "      <td>vibration=-4659.02</td>\n",
       "    </tr>\n",
       "    <tr>\n",
       "      <th>4</th>\n",
       "      <td>2019-12-02 06:53:29</td>\n",
       "      <td>ERROR</td>\n",
       "      <td>sensor 5</td>\n",
       "      <td>temperature=26.42</td>\n",
       "      <td>vibration=-3438.67</td>\n",
       "    </tr>\n",
       "    <tr>\n",
       "      <th>...</th>\n",
       "      <td>...</td>\n",
       "      <td>...</td>\n",
       "      <td>...</td>\n",
       "      <td>...</td>\n",
       "      <td>...</td>\n",
       "    </tr>\n",
       "    <tr>\n",
       "      <th>36974</th>\n",
       "      <td>2019-12-09 09:26:38</td>\n",
       "      <td>ERROR</td>\n",
       "      <td>sensor 27</td>\n",
       "      <td>temperature=472.36</td>\n",
       "      <td>vibration=9660.13</td>\n",
       "    </tr>\n",
       "    <tr>\n",
       "      <th>36975</th>\n",
       "      <td>2019-12-09 09:26:38</td>\n",
       "      <td>ERROR</td>\n",
       "      <td>sensor 51</td>\n",
       "      <td>temperature=134.64</td>\n",
       "      <td>vibration=-736.71</td>\n",
       "    </tr>\n",
       "    <tr>\n",
       "      <th>36976</th>\n",
       "      <td>2019-12-09 09:26:38</td>\n",
       "      <td>ERROR</td>\n",
       "      <td>sensor 56</td>\n",
       "      <td>temperature=388.94</td>\n",
       "      <td>vibration=1237.49</td>\n",
       "    </tr>\n",
       "    <tr>\n",
       "      <th>36977</th>\n",
       "      <td>2019-12-09 09:26:38</td>\n",
       "      <td>ERROR</td>\n",
       "      <td>sensor 81</td>\n",
       "      <td>temperature=82.97</td>\n",
       "      <td>vibration=-1871.2</td>\n",
       "    </tr>\n",
       "    <tr>\n",
       "      <th>36978</th>\n",
       "      <td>2019-12-09 09:26:38</td>\n",
       "      <td>ERROR</td>\n",
       "      <td>sensor 89</td>\n",
       "      <td>temperature=204.79</td>\n",
       "      <td>vibration=-6460.27</td>\n",
       "    </tr>\n",
       "  </tbody>\n",
       "</table>\n",
       "<p>36979 rows × 5 columns</p>\n",
       "</div>"
      ],
      "text/plain": [
       "                  datetime status     sensor         temperature  \\\n",
       "0      2019-12-10 10:46:09  ERROR   sensor 5  temperature=365.26   \n",
       "1      2019-12-10 10:46:09  ERROR  sensor 43  temperature=458.47   \n",
       "2      2019-12-10 10:46:09  ERROR  sensor 44   temperature=57.16   \n",
       "3      2019-12-10 10:46:09  ERROR  sensor 67  temperature=106.69   \n",
       "4      2019-12-02 06:53:29  ERROR   sensor 5   temperature=26.42   \n",
       "...                    ...    ...        ...                 ...   \n",
       "36974  2019-12-09 09:26:38  ERROR  sensor 27  temperature=472.36   \n",
       "36975  2019-12-09 09:26:38  ERROR  sensor 51  temperature=134.64   \n",
       "36976  2019-12-09 09:26:38  ERROR  sensor 56  temperature=388.94   \n",
       "36977  2019-12-09 09:26:38  ERROR  sensor 81   temperature=82.97   \n",
       "36978  2019-12-09 09:26:38  ERROR  sensor 89  temperature=204.79   \n",
       "\n",
       "                 vibration  \n",
       "0       vibration=-6305.32  \n",
       "1         vibration=-58.41  \n",
       "2        vibration=-999.66  \n",
       "3       vibration=-4659.02  \n",
       "4       vibration=-3438.67  \n",
       "...                    ...  \n",
       "36974    vibration=9660.13  \n",
       "36975    vibration=-736.71  \n",
       "36976    vibration=1237.49  \n",
       "36977    vibration=-1871.2  \n",
       "36978   vibration=-6460.27  \n",
       "\n",
       "[36979 rows x 5 columns]"
      ]
     },
     "execution_count": 9,
     "metadata": {},
     "output_type": "execute_result"
    }
   ],
   "source": [
    "equip_fail_sensors = pd.read_csv(path_folder+\"equipment_failure_sensors_new.log\", sep=\";\", names=[\"datetime\",\"status\",\"sensor\",\"temperature\",\"vibration\"])\n",
    "equip_fail_sensors"
   ]
  },
  {
   "cell_type": "markdown",
   "id": "ac973229-d348-4fe5-bf72-b93301e74e2d",
   "metadata": {},
   "source": [
    "    5. For the columns sensor, temperature and vibration, we must keep just the values"
   ]
  },
  {
   "cell_type": "code",
   "execution_count": 10,
   "id": "f5481fe3-ae75-4412-94d2-c3c12eb2f66c",
   "metadata": {},
   "outputs": [],
   "source": [
    "# Columns sensor\n",
    "equip_fail_sensors[\"sensor\"] = equip_fail_sensors[\"sensor\"].apply(lambda char: int(char.split(\" \")[1]))"
   ]
  },
  {
   "cell_type": "code",
   "execution_count": 11,
   "id": "d19b89cc-ccae-4fb7-a92a-5c7e16298e02",
   "metadata": {},
   "outputs": [],
   "source": [
    "# Columns temperature\n",
    "equip_fail_sensors[\"temperature\"] = equip_fail_sensors[\"temperature\"].apply(lambda char: char.split(\"=\")[1])\n",
    "\n",
    "# Convert to float\n",
    "equip_fail_sensors[\"temperature\"] = equip_fail_sensors[\"temperature\"].apply(lambda toInt: float(toInt))"
   ]
  },
  {
   "cell_type": "code",
   "execution_count": 12,
   "id": "a215befc-9574-46ed-b418-4d7aa088633d",
   "metadata": {},
   "outputs": [],
   "source": [
    "# Columns temperature\n",
    "equip_fail_sensors[\"vibration\"] = equip_fail_sensors[\"vibration\"].apply(lambda char: char.split(\"=\")[1])\n",
    "\n",
    "# Convert to float\n",
    "equip_fail_sensors[\"vibration\"] = equip_fail_sensors[\"vibration\"].apply(lambda toInt: float(toInt))"
   ]
  },
  {
   "cell_type": "markdown",
   "id": "92a0f210-2104-40f7-9be0-89ff0cf9b424",
   "metadata": {},
   "source": [
    "    6. Joining datasets to create an analytical one.\n",
    "        Auxiliary dataframes:\n",
    "        - equipemnt_df\n",
    "        - equip_sensor_df\n",
    "        - equip_fail_sensors(log)"
   ]
  },
  {
   "cell_type": "code",
   "execution_count": 13,
   "id": "aed87940-1d2a-47f7-874c-5b3fb1c32d1d",
   "metadata": {},
   "outputs": [],
   "source": [
    "# joining equipment and sensor dataframes\n",
    "equip_sensor_join_df = equipemnt_df.set_index('equipment_id').join(equip_sensor_df.set_index('equipment_id'), how = \"inner\")"
   ]
  },
  {
   "cell_type": "code",
   "execution_count": 14,
   "id": "1ccd4cc9-cb86-46d9-be35-cc3d4db6fc10",
   "metadata": {},
   "outputs": [
    {
     "data": {
      "text/html": [
       "<div>\n",
       "<style scoped>\n",
       "    .dataframe tbody tr th:only-of-type {\n",
       "        vertical-align: middle;\n",
       "    }\n",
       "\n",
       "    .dataframe tbody tr th {\n",
       "        vertical-align: top;\n",
       "    }\n",
       "\n",
       "    .dataframe thead th {\n",
       "        text-align: right;\n",
       "    }\n",
       "</style>\n",
       "<table border=\"1\" class=\"dataframe\">\n",
       "  <thead>\n",
       "    <tr style=\"text-align: right;\">\n",
       "      <th></th>\n",
       "      <th>code</th>\n",
       "      <th>group_name</th>\n",
       "      <th>sensor_id</th>\n",
       "    </tr>\n",
       "    <tr>\n",
       "      <th>equipment_id</th>\n",
       "      <th></th>\n",
       "      <th></th>\n",
       "      <th></th>\n",
       "    </tr>\n",
       "  </thead>\n",
       "  <tbody>\n",
       "    <tr>\n",
       "      <th>1</th>\n",
       "      <td>5310B9D7</td>\n",
       "      <td>FGHQWR2Q</td>\n",
       "      <td>5</td>\n",
       "    </tr>\n",
       "    <tr>\n",
       "      <th>1</th>\n",
       "      <td>5310B9D7</td>\n",
       "      <td>FGHQWR2Q</td>\n",
       "      <td>43</td>\n",
       "    </tr>\n",
       "    <tr>\n",
       "      <th>1</th>\n",
       "      <td>5310B9D7</td>\n",
       "      <td>FGHQWR2Q</td>\n",
       "      <td>44</td>\n",
       "    </tr>\n",
       "    <tr>\n",
       "      <th>1</th>\n",
       "      <td>5310B9D7</td>\n",
       "      <td>FGHQWR2Q</td>\n",
       "      <td>67</td>\n",
       "    </tr>\n",
       "    <tr>\n",
       "      <th>2</th>\n",
       "      <td>43B81579</td>\n",
       "      <td>VAPQY59S</td>\n",
       "      <td>14</td>\n",
       "    </tr>\n",
       "  </tbody>\n",
       "</table>\n",
       "</div>"
      ],
      "text/plain": [
       "                  code group_name  sensor_id\n",
       "equipment_id                                \n",
       "1             5310B9D7   FGHQWR2Q          5\n",
       "1             5310B9D7   FGHQWR2Q         43\n",
       "1             5310B9D7   FGHQWR2Q         44\n",
       "1             5310B9D7   FGHQWR2Q         67\n",
       "2             43B81579   VAPQY59S         14"
      ]
     },
     "execution_count": 14,
     "metadata": {},
     "output_type": "execute_result"
    }
   ],
   "source": [
    "# Joining equip_sensor_join_df and equip_fail_sensor\n",
    "equip_sensor_join_df.head()"
   ]
  },
  {
   "cell_type": "code",
   "execution_count": 17,
   "id": "3cb1b4d1-95c2-48e9-97b4-24ede4e510cc",
   "metadata": {},
   "outputs": [],
   "source": [
    "errors_by_equipment_final_df = equip_fail_sensors.set_index(\"sensor\").join(equip_sensor_join_df.set_index(\"sensor_id\"), on=\"sensor\", how=\"inner\", lsuffix=\"_caller\")"
   ]
  },
  {
   "cell_type": "code",
   "execution_count": 18,
   "id": "ce4b03f9-4e7c-4e0d-bb73-f36eb55b723c",
   "metadata": {},
   "outputs": [],
   "source": [
    "# Converting the datetime column to datetime type\n",
    "errors_by_equipment_final_df[\"datetime\"] = errors_by_equipment_final_df[\"datetime\"].apply(lambda str_ts: pd.to_datetime(str_ts))"
   ]
  },
  {
   "cell_type": "markdown",
   "id": "c1fc71d2-b68d-4dfb-ba5a-a6d4dfceeb51",
   "metadata": {},
   "source": [
    "#### Filtering the dataframe to January of 2020"
   ]
  },
  {
   "cell_type": "code",
   "execution_count": 78,
   "id": "b5d0e3de-aef9-4bb6-b198-e363f4a3b3e9",
   "metadata": {},
   "outputs": [],
   "source": [
    "errors_by_equipment_final_df_jan2020 = errors_by_equipment_final_df[errors_by_equipment_final_df.datetime.dt.strftime('%Y-%m') == '2020-01']"
   ]
  },
  {
   "cell_type": "markdown",
   "id": "ed7f86a1-fec7-47ce-b329-10e1473f1cb7",
   "metadata": {},
   "source": [
    "#### Transforming the datetime column"
   ]
  },
  {
   "cell_type": "code",
   "execution_count": 79,
   "id": "63c01290-cfb4-4aae-8d85-dd91ad5d6939",
   "metadata": {},
   "outputs": [
    {
     "name": "stderr",
     "output_type": "stream",
     "text": [
      "/tmp/ipykernel_472/3105942243.py:1: SettingWithCopyWarning: \n",
      "A value is trying to be set on a copy of a slice from a DataFrame.\n",
      "Try using .loc[row_indexer,col_indexer] = value instead\n",
      "\n",
      "See the caveats in the documentation: https://pandas.pydata.org/pandas-docs/stable/user_guide/indexing.html#returning-a-view-versus-a-copy\n",
      "  errors_by_equipment_final_df_jan2020['datetime_year_month'] = errors_by_equipment_final_df_jan2020.datetime.dt.strftime('%Y-%m')\n"
     ]
    }
   ],
   "source": [
    "errors_by_equipment_final_df_jan2020['datetime_year_month'] = errors_by_equipment_final_df_jan2020.datetime.dt.strftime('%Y-%m')"
   ]
  },
  {
   "cell_type": "code",
   "execution_count": 80,
   "id": "d966e752-1045-4d7d-87ce-c7298867b58b",
   "metadata": {},
   "outputs": [
    {
     "name": "stderr",
     "output_type": "stream",
     "text": [
      "/tmp/ipykernel_472/1233139312.py:1: SettingWithCopyWarning: \n",
      "A value is trying to be set on a copy of a slice from a DataFrame.\n",
      "Try using .loc[row_indexer,col_indexer] = value instead\n",
      "\n",
      "See the caveats in the documentation: https://pandas.pydata.org/pandas-docs/stable/user_guide/indexing.html#returning-a-view-versus-a-copy\n",
      "  errors_by_equipment_final_df_jan2020['datetime_year_month_day'] = errors_by_equipment_final_df_jan2020.datetime.dt.strftime('%Y-%m-%d')\n"
     ]
    }
   ],
   "source": [
    "errors_by_equipment_final_df_jan2020['datetime_year_month_day'] = errors_by_equipment_final_df_jan2020.datetime.dt.strftime('%Y-%m-%d')"
   ]
  },
  {
   "cell_type": "markdown",
   "id": "c32aa852-804d-4f86-93a0-87e43877f917",
   "metadata": {},
   "source": [
    "### Seeing information about the analytical dataframe"
   ]
  },
  {
   "cell_type": "code",
   "execution_count": 81,
   "id": "01d46747-f069-4fba-bb8c-ecd1d1dd65a1",
   "metadata": {},
   "outputs": [
    {
     "name": "stdout",
     "output_type": "stream",
     "text": [
      "<class 'pandas.core.frame.DataFrame'>\n",
      "Int64Index: 11645 entries, 5 to 92\n",
      "Data columns (total 8 columns):\n",
      " #   Column                   Non-Null Count  Dtype         \n",
      "---  ------                   --------------  -----         \n",
      " 0   datetime                 11645 non-null  datetime64[ns]\n",
      " 1   status                   11645 non-null  object        \n",
      " 2   temperature              11645 non-null  float64       \n",
      " 3   vibration                11645 non-null  float64       \n",
      " 4   code                     11645 non-null  object        \n",
      " 5   group_name               11645 non-null  object        \n",
      " 6   datetime_year_month      11645 non-null  object        \n",
      " 7   datetime_year_month_day  11645 non-null  object        \n",
      "dtypes: datetime64[ns](1), float64(2), object(5)\n",
      "memory usage: 818.8+ KB\n"
     ]
    }
   ],
   "source": [
    "errors_by_equipment_final_df_jan2020.info()"
   ]
  },
  {
   "cell_type": "code",
   "execution_count": 82,
   "id": "812287de-ca9d-419c-93a2-1053691cae06",
   "metadata": {},
   "outputs": [
    {
     "data": {
      "text/html": [
       "<div>\n",
       "<style scoped>\n",
       "    .dataframe tbody tr th:only-of-type {\n",
       "        vertical-align: middle;\n",
       "    }\n",
       "\n",
       "    .dataframe tbody tr th {\n",
       "        vertical-align: top;\n",
       "    }\n",
       "\n",
       "    .dataframe thead th {\n",
       "        text-align: right;\n",
       "    }\n",
       "</style>\n",
       "<table border=\"1\" class=\"dataframe\">\n",
       "  <thead>\n",
       "    <tr style=\"text-align: right;\">\n",
       "      <th></th>\n",
       "      <th>temperature</th>\n",
       "      <th>vibration</th>\n",
       "    </tr>\n",
       "  </thead>\n",
       "  <tbody>\n",
       "    <tr>\n",
       "      <th>count</th>\n",
       "      <td>11645.000000</td>\n",
       "      <td>11645.000000</td>\n",
       "    </tr>\n",
       "    <tr>\n",
       "      <th>mean</th>\n",
       "      <td>249.556484</td>\n",
       "      <td>32.889951</td>\n",
       "    </tr>\n",
       "    <tr>\n",
       "      <th>std</th>\n",
       "      <td>144.453871</td>\n",
       "      <td>5758.554804</td>\n",
       "    </tr>\n",
       "    <tr>\n",
       "      <th>min</th>\n",
       "      <td>0.090000</td>\n",
       "      <td>-9999.980000</td>\n",
       "    </tr>\n",
       "    <tr>\n",
       "      <th>25%</th>\n",
       "      <td>124.770000</td>\n",
       "      <td>-4948.660000</td>\n",
       "    </tr>\n",
       "    <tr>\n",
       "      <th>50%</th>\n",
       "      <td>250.900000</td>\n",
       "      <td>30.380000</td>\n",
       "    </tr>\n",
       "    <tr>\n",
       "      <th>75%</th>\n",
       "      <td>374.070000</td>\n",
       "      <td>4967.700000</td>\n",
       "    </tr>\n",
       "    <tr>\n",
       "      <th>max</th>\n",
       "      <td>499.920000</td>\n",
       "      <td>9999.970000</td>\n",
       "    </tr>\n",
       "  </tbody>\n",
       "</table>\n",
       "</div>"
      ],
      "text/plain": [
       "        temperature     vibration\n",
       "count  11645.000000  11645.000000\n",
       "mean     249.556484     32.889951\n",
       "std      144.453871   5758.554804\n",
       "min        0.090000  -9999.980000\n",
       "25%      124.770000  -4948.660000\n",
       "50%      250.900000     30.380000\n",
       "75%      374.070000   4967.700000\n",
       "max      499.920000   9999.970000"
      ]
     },
     "execution_count": 82,
     "metadata": {},
     "output_type": "execute_result"
    }
   ],
   "source": [
    "errors_by_equipment_final_df_jan2020.describe()"
   ]
  },
  {
   "cell_type": "markdown",
   "id": "a948b481-d49d-4292-a56f-7fa9dc66475a",
   "metadata": {},
   "source": [
    "#### Question 1 - Total equipment failures that happened?"
   ]
  },
  {
   "cell_type": "code",
   "execution_count": 83,
   "id": "d9be803f-331d-436c-9ee2-9e9b1a9c0d1d",
   "metadata": {},
   "outputs": [
    {
     "name": "stdout",
     "output_type": "stream",
     "text": [
      "On January 2020 we got 11645 errors.\n"
     ]
    }
   ],
   "source": [
    "print(\"On January 2020 we got \"+str(errors_by_equipment_final_df_jan2020[\"status\"].count())+\" errors.\" )"
   ]
  },
  {
   "cell_type": "markdown",
   "id": "4c4466c3-b3f1-4c61-9c78-dab229b86f7f",
   "metadata": {},
   "source": [
    "#### Question 2 – Which equipment code had most failures?"
   ]
  },
  {
   "cell_type": "code",
   "execution_count": 84,
   "id": "e7a08fef-0743-41a8-a74b-78d8b5662e56",
   "metadata": {},
   "outputs": [
    {
     "data": {
      "text/plain": [
       "<AxesSubplot:>"
      ]
     },
     "execution_count": 84,
     "metadata": {},
     "output_type": "execute_result"
    },
    {
     "data": {
      "image/png": "[encoded data removed]",
      "text/plain": [
       "<Figure size 1080x576 with 1 Axes>"
      ]
     },
     "metadata": {
      "needs_background": "light"
     },
     "output_type": "display_data"
    }
   ],
   "source": [
    "errors_by_equipment_final_df_jan2020[\"code\"].value_counts().plot.bar(figsize=(15,8))"
   ]
  },
  {
   "cell_type": "code",
   "execution_count": 85,
   "id": "cfffdd89-3815-4f75-a18d-ec42decb4d69",
   "metadata": {},
   "outputs": [
    {
     "name": "stdout",
     "output_type": "stream",
     "text": [
      "The equipment code who had most failures was E1AD07D4    1377\n",
      "Name: code, dtype: int64\n"
     ]
    }
   ],
   "source": [
    "print(\"The equipment code who had most failures was \"+str(errors_by_equipment_final_df_jan2020[\"code\"].value_counts()[0:1]))"
   ]
  },
  {
   "cell_type": "markdown",
   "id": "1b509af7-4c17-4297-b4bc-2fe4510109d0",
   "metadata": {},
   "source": [
    "#### Question 3 – Average amount of failures across equipment group, ordered by the number of failures in ascending order?"
   ]
  },
  {
   "cell_type": "code",
   "execution_count": 104,
   "id": "af6331a2-d949-4826-a448-39ac4da8a60d",
   "metadata": {},
   "outputs": [],
   "source": [
    "# Creating a specific dataframe to answer the question\n",
    "df_q3 = errors_by_equipment_final_df_jan2020.groupby(['datetime_year_month','datetime_year_month_day','group_name']) \\\n",
    "       .agg({'status':'count'}) \\\n",
    "       .rename(columns={'status':'# of Failures'}) #\\\n",
    "       #"
   ]
  },
  {
   "cell_type": "code",
   "execution_count": 121,
   "id": "5f3505d1-e728-4c3c-a3e8-4e072ce0aeeb",
   "metadata": {},
   "outputs": [],
   "source": [
    "df_q3_mean_month = df_q3.groupby(['datetime_year_month','group_name']) \\\n",
    "                      .agg({'# of Failures':'sum'}) \\\n",
    "                      .rename(columns={'# of Failures':'Total Failures'})"
   ]
  },
  {
   "cell_type": "code",
   "execution_count": 136,
   "id": "9909c3d7-d65b-4805-b01f-c4fdd76945c6",
   "metadata": {},
   "outputs": [
    {
     "data": {
      "text/plain": [
       "<AxesSubplot:title={'center':'Total number of failures within the month'}, xlabel='datetime_year_month,group_name'>"
      ]
     },
     "execution_count": 136,
     "metadata": {},
     "output_type": "execute_result"
    },
    {
     "data": {
      "image/png": "[encoded data removed]",
      "text/plain": [
       "<Figure size 1080x576 with 1 Axes>"
      ]
     },
     "metadata": {
      "needs_background": "light"
     },
     "output_type": "display_data"
    }
   ],
   "source": [
    "df_q3_mean_month.sort_values(by=['Total Failures','group_name'], ascending=True).plot.bar(figsize=(15,8), title=\"Total number of failures within the month\")"
   ]
  },
  {
   "cell_type": "code",
   "execution_count": 118,
   "id": "84e2dc60-1abe-476d-a45d-83bcd6667f27",
   "metadata": {},
   "outputs": [],
   "source": [
    "df_q3_mean_day = df_q3.groupby(['datetime_year_month','group_name']) \\\n",
    "                      .agg({'# of Failures':'mean'}) \\\n",
    "                      .rename(columns={'# of Failures':'Avg # of Failures Per Day'})"
   ]
  },
  {
   "cell_type": "code",
   "execution_count": 137,
   "id": "823660dc-f12e-490b-9355-978b448ff6ed",
   "metadata": {},
   "outputs": [
    {
     "data": {
      "text/plain": [
       "<AxesSubplot:title={'center':'The average number of failures per day.'}, xlabel='datetime_year_month,group_name'>"
      ]
     },
     "execution_count": 137,
     "metadata": {},
     "output_type": "execute_result"
    },
    {
     "data": {
      "image/png": "[encoded data removed]",
      "text/plain": [
       "<Figure size 1080x576 with 1 Axes>"
      ]
     },
     "metadata": {
      "needs_background": "light"
     },
     "output_type": "display_data"
    }
   ],
   "source": [
    "df_q3_mean_day.sort_values(by=['Avg # of Failures Per Day','group_name'], ascending=True).plot.bar(figsize=(15,8), title=\"The average number of failures per day.\")"
   ]
  }
 ],
 "metadata": {
  "kernelspec": {
   "display_name": "Python 3 (ipykernel)",
   "language": "python",
   "name": "python3"
  },
  "language_info": {
   "codemirror_mode": {
    "name": "ipython",
    "version": 3
   },
   "file_extension": ".py",
   "mimetype": "text/x-python",
   "name": "python",
   "nbconvert_exporter": "python",
   "pygments_lexer": "ipython3",
   "version": "3.9.7"
  }
 },
 "nbformat": 4,
 "nbformat_minor": 5
}
