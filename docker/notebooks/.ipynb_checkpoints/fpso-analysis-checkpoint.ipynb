{
 "cells": [
  {
   "cell_type": "markdown",
   "id": "075c14f4-0685-49b5-b5b8-8f8a803b7406",
   "metadata": {},
   "source": [
    "# SHAPE\n",
    "### Tech Test\n",
    "#### Leonardo Lacerda Galler"
   ]
  },
  {
   "cell_type": "markdown",
   "id": "5b67fcb0-075f-4385-9745-4eb81346b591",
   "metadata": {},
   "source": [
    "#### Details:\n",
    "The assignment involves an FPSO (Floating Production, Storage, and Offloading) vessel data, and we need your help with equipment failure data ingestion.\n",
    "The FPSO vessel contains some equipment and each equipment have multiple sensors. Every time a failure happens, we get all the sensors data from the failed equipment, and we store this information in a log file (the time is in GMT time zone).\n",
    "\n",
    "#### Expectations -  answer a few questions related to January 2020\n",
    "1 – Total equipment failures that happened?\n",
    "\n",
    "2 – Which equipment code had most failures?\n",
    "\n",
    "3 – Average amount of failures across equipment group, ordered by the number of failures in ascending order?\n"
   ]
  },
  {
   "cell_type": "markdown",
   "id": "c27ffda1-b34c-43fd-95b4-f21084587a97",
   "metadata": {},
   "source": [
    "### Accessing and describing the data"
   ]
  },
  {
   "cell_type": "code",
   "execution_count": 1,
   "id": "85f838ab-3ab7-43a8-8b25-721340e53bff",
   "metadata": {},
   "outputs": [],
   "source": [
    "import pandas as pd\n",
    "path_folder = \"/home/jovyan/docker/dados/\""
   ]
  },
  {
   "cell_type": "markdown",
   "id": "b2999dea-053e-4c52-9578-9c9493c767bd",
   "metadata": {},
   "source": [
    "#### Reading the files and creating dataframes\n",
    "    1. Reading the equipment file"
   ]
  },
  {
   "cell_type": "code",
   "execution_count": 2,
   "id": "a3fe535d-8329-46f0-98fb-9ff2396893de",
   "metadata": {},
   "outputs": [
    {
     "data": {
      "text/html": [
       "<div>\n",
       "<style scoped>\n",
       "    .dataframe tbody tr th:only-of-type {\n",
       "        vertical-align: middle;\n",
       "    }\n",
       "\n",
       "    .dataframe tbody tr th {\n",
       "        vertical-align: top;\n",
       "    }\n",
       "\n",
       "    .dataframe thead th {\n",
       "        text-align: right;\n",
       "    }\n",
       "</style>\n",
       "<table border=\"1\" class=\"dataframe\">\n",
       "  <thead>\n",
       "    <tr style=\"text-align: right;\">\n",
       "      <th></th>\n",
       "      <th>equipment_id</th>\n",
       "      <th>code</th>\n",
       "      <th>group_name</th>\n",
       "    </tr>\n",
       "  </thead>\n",
       "  <tbody>\n",
       "    <tr>\n",
       "      <th>0</th>\n",
       "      <td>1</td>\n",
       "      <td>5310B9D7</td>\n",
       "      <td>FGHQWR2Q</td>\n",
       "    </tr>\n",
       "    <tr>\n",
       "      <th>1</th>\n",
       "      <td>2</td>\n",
       "      <td>43B81579</td>\n",
       "      <td>VAPQY59S</td>\n",
       "    </tr>\n",
       "    <tr>\n",
       "      <th>2</th>\n",
       "      <td>3</td>\n",
       "      <td>E1AD07D4</td>\n",
       "      <td>FGHQWR2Q</td>\n",
       "    </tr>\n",
       "    <tr>\n",
       "      <th>3</th>\n",
       "      <td>4</td>\n",
       "      <td>ADE40E7F</td>\n",
       "      <td>9N127Z5P</td>\n",
       "    </tr>\n",
       "    <tr>\n",
       "      <th>4</th>\n",
       "      <td>5</td>\n",
       "      <td>78FFAD0C</td>\n",
       "      <td>9N127Z5P</td>\n",
       "    </tr>\n",
       "    <tr>\n",
       "      <th>5</th>\n",
       "      <td>6</td>\n",
       "      <td>9AD15F7E</td>\n",
       "      <td>PA92NCXZ</td>\n",
       "    </tr>\n",
       "    <tr>\n",
       "      <th>6</th>\n",
       "      <td>7</td>\n",
       "      <td>E54B5C3A</td>\n",
       "      <td>FGHQWR2Q</td>\n",
       "    </tr>\n",
       "    <tr>\n",
       "      <th>7</th>\n",
       "      <td>8</td>\n",
       "      <td>86083278</td>\n",
       "      <td>NQWPA8D3</td>\n",
       "    </tr>\n",
       "    <tr>\n",
       "      <th>8</th>\n",
       "      <td>9</td>\n",
       "      <td>3329175B</td>\n",
       "      <td>VAPQY59S</td>\n",
       "    </tr>\n",
       "    <tr>\n",
       "      <th>9</th>\n",
       "      <td>10</td>\n",
       "      <td>98B84035</td>\n",
       "      <td>NQWPA8D3</td>\n",
       "    </tr>\n",
       "    <tr>\n",
       "      <th>10</th>\n",
       "      <td>11</td>\n",
       "      <td>09C37FB8</td>\n",
       "      <td>PA92NCXZ</td>\n",
       "    </tr>\n",
       "    <tr>\n",
       "      <th>11</th>\n",
       "      <td>12</td>\n",
       "      <td>CF304D24</td>\n",
       "      <td>FGHQWR2Q</td>\n",
       "    </tr>\n",
       "    <tr>\n",
       "      <th>12</th>\n",
       "      <td>13</td>\n",
       "      <td>4E834E81</td>\n",
       "      <td>Z9K1SAP4</td>\n",
       "    </tr>\n",
       "    <tr>\n",
       "      <th>13</th>\n",
       "      <td>14</td>\n",
       "      <td>2C195700</td>\n",
       "      <td>VAPQY59S</td>\n",
       "    </tr>\n",
       "  </tbody>\n",
       "</table>\n",
       "</div>"
      ],
      "text/plain": [
       "    equipment_id      code group_name\n",
       "0              1  5310B9D7   FGHQWR2Q\n",
       "1              2  43B81579   VAPQY59S\n",
       "2              3  E1AD07D4   FGHQWR2Q\n",
       "3              4  ADE40E7F   9N127Z5P\n",
       "4              5  78FFAD0C   9N127Z5P\n",
       "5              6  9AD15F7E   PA92NCXZ\n",
       "6              7  E54B5C3A   FGHQWR2Q\n",
       "7              8  86083278   NQWPA8D3\n",
       "8              9  3329175B   VAPQY59S\n",
       "9             10  98B84035   NQWPA8D3\n",
       "10            11  09C37FB8   PA92NCXZ\n",
       "11            12  CF304D24   FGHQWR2Q\n",
       "12            13  4E834E81   Z9K1SAP4\n",
       "13            14  2C195700   VAPQY59S"
      ]
     },
     "execution_count": 2,
     "metadata": {},
     "output_type": "execute_result"
    }
   ],
   "source": [
    "equipemnt_df = pd.read_json(path_folder+\"equipment.json\", orient=\"records\")\n",
    "equipemnt_df"
   ]
  },
  {
   "cell_type": "code",
   "execution_count": 3,
   "id": "7e510009-cc2d-4c47-8001-e900a8f32081",
   "metadata": {},
   "outputs": [
    {
     "data": {
      "text/plain": [
       "<bound method DataFrame.info of     equipment_id      code group_name\n",
       "0              1  5310B9D7   FGHQWR2Q\n",
       "1              2  43B81579   VAPQY59S\n",
       "2              3  E1AD07D4   FGHQWR2Q\n",
       "3              4  ADE40E7F   9N127Z5P\n",
       "4              5  78FFAD0C   9N127Z5P\n",
       "5              6  9AD15F7E   PA92NCXZ\n",
       "6              7  E54B5C3A   FGHQWR2Q\n",
       "7              8  86083278   NQWPA8D3\n",
       "8              9  3329175B   VAPQY59S\n",
       "9             10  98B84035   NQWPA8D3\n",
       "10            11  09C37FB8   PA92NCXZ\n",
       "11            12  CF304D24   FGHQWR2Q\n",
       "12            13  4E834E81   Z9K1SAP4\n",
       "13            14  2C195700   VAPQY59S>"
      ]
     },
     "execution_count": 3,
     "metadata": {},
     "output_type": "execute_result"
    }
   ],
   "source": [
    "equipemnt_df.info"
   ]
  },
  {
   "cell_type": "markdown",
   "id": "4af6068b-4aef-4fd8-810a-ba2af70a8d05",
   "metadata": {},
   "source": [
    "    2. Reading the equipment_sensors"
   ]
  },
  {
   "cell_type": "code",
   "execution_count": 4,
   "id": "bb013fcb-b9f5-4b10-9b41-a21004e3b18b",
   "metadata": {},
   "outputs": [
    {
     "data": {
      "text/html": [
       "<div>\n",
       "<style scoped>\n",
       "    .dataframe tbody tr th:only-of-type {\n",
       "        vertical-align: middle;\n",
       "    }\n",
       "\n",
       "    .dataframe tbody tr th {\n",
       "        vertical-align: top;\n",
       "    }\n",
       "\n",
       "    .dataframe thead th {\n",
       "        text-align: right;\n",
       "    }\n",
       "</style>\n",
       "<table border=\"1\" class=\"dataframe\">\n",
       "  <thead>\n",
       "    <tr style=\"text-align: right;\">\n",
       "      <th></th>\n",
       "      <th>equipment_id</th>\n",
       "      <th>sensor_id</th>\n",
       "    </tr>\n",
       "  </thead>\n",
       "  <tbody>\n",
       "    <tr>\n",
       "      <th>0</th>\n",
       "      <td>4</td>\n",
       "      <td>1</td>\n",
       "    </tr>\n",
       "    <tr>\n",
       "      <th>1</th>\n",
       "      <td>8</td>\n",
       "      <td>2</td>\n",
       "    </tr>\n",
       "    <tr>\n",
       "      <th>2</th>\n",
       "      <td>13</td>\n",
       "      <td>3</td>\n",
       "    </tr>\n",
       "    <tr>\n",
       "      <th>3</th>\n",
       "      <td>11</td>\n",
       "      <td>4</td>\n",
       "    </tr>\n",
       "    <tr>\n",
       "      <th>4</th>\n",
       "      <td>1</td>\n",
       "      <td>5</td>\n",
       "    </tr>\n",
       "    <tr>\n",
       "      <th>...</th>\n",
       "      <td>...</td>\n",
       "      <td>...</td>\n",
       "    </tr>\n",
       "    <tr>\n",
       "      <th>95</th>\n",
       "      <td>12</td>\n",
       "      <td>96</td>\n",
       "    </tr>\n",
       "    <tr>\n",
       "      <th>96</th>\n",
       "      <td>4</td>\n",
       "      <td>97</td>\n",
       "    </tr>\n",
       "    <tr>\n",
       "      <th>97</th>\n",
       "      <td>14</td>\n",
       "      <td>98</td>\n",
       "    </tr>\n",
       "    <tr>\n",
       "      <th>98</th>\n",
       "      <td>14</td>\n",
       "      <td>99</td>\n",
       "    </tr>\n",
       "    <tr>\n",
       "      <th>99</th>\n",
       "      <td>3</td>\n",
       "      <td>100</td>\n",
       "    </tr>\n",
       "  </tbody>\n",
       "</table>\n",
       "<p>100 rows × 2 columns</p>\n",
       "</div>"
      ],
      "text/plain": [
       "    equipment_id  sensor_id\n",
       "0              4          1\n",
       "1              8          2\n",
       "2             13          3\n",
       "3             11          4\n",
       "4              1          5\n",
       "..           ...        ...\n",
       "95            12         96\n",
       "96             4         97\n",
       "97            14         98\n",
       "98            14         99\n",
       "99             3        100\n",
       "\n",
       "[100 rows x 2 columns]"
      ]
     },
     "execution_count": 4,
     "metadata": {},
     "output_type": "execute_result"
    }
   ],
   "source": [
    "equip_sensor_df = pd.read_csv(path_folder+\"equipment_sensors.csv\", sep=\";\")\n",
    "equip_sensor_df"
   ]
  },
  {
   "cell_type": "code",
   "execution_count": 5,
   "id": "9127516c-52e5-4281-bb68-9d79b16a95fe",
   "metadata": {},
   "outputs": [
    {
     "data": {
      "text/plain": [
       "<bound method DataFrame.info of     equipment_id  sensor_id\n",
       "0              4          1\n",
       "1              8          2\n",
       "2             13          3\n",
       "3             11          4\n",
       "4              1          5\n",
       "..           ...        ...\n",
       "95            12         96\n",
       "96             4         97\n",
       "97            14         98\n",
       "98            14         99\n",
       "99             3        100\n",
       "\n",
       "[100 rows x 2 columns]>"
      ]
     },
     "execution_count": 5,
     "metadata": {},
     "output_type": "execute_result"
    }
   ],
   "source": [
    "equip_sensor_df.info"
   ]
  },
  {
   "cell_type": "markdown",
   "id": "9c93320b-7d31-4de9-9fa6-6672353d1e9e",
   "metadata": {},
   "source": [
    "    3. Reading the log file (The log file is very complex and will need more attention)"
   ]
  },
  {
   "cell_type": "code",
   "execution_count": 6,
   "id": "da20974f-ebce-4977-bc2c-3424d8bf26c4",
   "metadata": {},
   "outputs": [],
   "source": [
    "# Read the current file\n",
    "log_data = open(path_folder+\"equipment_failure_sensors.log\",\"r\")\n",
    "\n",
    "# Will create a new file\n",
    "new_file = open(path_folder+\"equipment_failure_sensors_new.log\",\"a\")"
   ]
  },
  {
   "cell_type": "code",
   "execution_count": 7,
   "id": "df24eab4-15cb-4f12-ab4d-5c5eab08394b",
   "metadata": {},
   "outputs": [],
   "source": [
    "for line in log_data.readlines():\n",
    "    new_file.write(line.replace(\"[\",\"\")\\\n",
    "        .replace(\"]\",\"\")\\\n",
    "        .replace(\"\\t\",\";\")\\\n",
    "        .replace(\"sensor\",\"sensor \")\\\n",
    "        .replace(\"temperature;\",\"temperature=\")\\\n",
    "        .replace(\"vibration;\",\"vibration=\")\\\n",
    "        .replace(\":;\",\";\")\\\n",
    "        .replace(\"(\",\"\")\\\n",
    "        .replace(\")\",\"\")\\\n",
    "        .replace(\",\",\";\"))"
   ]
  },
  {
   "cell_type": "code",
   "execution_count": 8,
   "id": "e8a5e917-65d7-4dd9-9c44-7ec5bcd70cf3",
   "metadata": {},
   "outputs": [],
   "source": [
    "# Closing the connections\n",
    "log_data.close()\n",
    "new_file.close()"
   ]
  },
  {
   "cell_type": "markdown",
   "id": "0d037902-79a8-4bb6-9298-684d0786bd91",
   "metadata": {},
   "source": [
    "    4. After the initial wrangling of the log data, now we structure it more with pandas"
   ]
  },
  {
   "cell_type": "code",
   "execution_count": 21,
   "id": "40ffb816-3158-40fe-b6a3-52ab9e8a5c40",
   "metadata": {},
   "outputs": [
    {
     "data": {
      "text/html": [
       "<div>\n",
       "<style scoped>\n",
       "    .dataframe tbody tr th:only-of-type {\n",
       "        vertical-align: middle;\n",
       "    }\n",
       "\n",
       "    .dataframe tbody tr th {\n",
       "        vertical-align: top;\n",
       "    }\n",
       "\n",
       "    .dataframe thead th {\n",
       "        text-align: right;\n",
       "    }\n",
       "</style>\n",
       "<table border=\"1\" class=\"dataframe\">\n",
       "  <thead>\n",
       "    <tr style=\"text-align: right;\">\n",
       "      <th></th>\n",
       "      <th>datetime</th>\n",
       "      <th>status</th>\n",
       "      <th>sensor</th>\n",
       "      <th>temperature</th>\n",
       "      <th>vibration</th>\n",
       "    </tr>\n",
       "  </thead>\n",
       "  <tbody>\n",
       "    <tr>\n",
       "      <th>0</th>\n",
       "      <td>2019-12-10 10:46:09</td>\n",
       "      <td>ERROR</td>\n",
       "      <td>sensor 5</td>\n",
       "      <td>temperature=365.26</td>\n",
       "      <td>vibration=-6305.32</td>\n",
       "    </tr>\n",
       "    <tr>\n",
       "      <th>1</th>\n",
       "      <td>2019-12-10 10:46:09</td>\n",
       "      <td>ERROR</td>\n",
       "      <td>sensor 43</td>\n",
       "      <td>temperature=458.47</td>\n",
       "      <td>vibration=-58.41</td>\n",
       "    </tr>\n",
       "    <tr>\n",
       "      <th>2</th>\n",
       "      <td>2019-12-10 10:46:09</td>\n",
       "      <td>ERROR</td>\n",
       "      <td>sensor 44</td>\n",
       "      <td>temperature=57.16</td>\n",
       "      <td>vibration=-999.66</td>\n",
       "    </tr>\n",
       "    <tr>\n",
       "      <th>3</th>\n",
       "      <td>2019-12-10 10:46:09</td>\n",
       "      <td>ERROR</td>\n",
       "      <td>sensor 67</td>\n",
       "      <td>temperature=106.69</td>\n",
       "      <td>vibration=-4659.02</td>\n",
       "    </tr>\n",
       "    <tr>\n",
       "      <th>4</th>\n",
       "      <td>2019-12-02 06:53:29</td>\n",
       "      <td>ERROR</td>\n",
       "      <td>sensor 5</td>\n",
       "      <td>temperature=26.42</td>\n",
       "      <td>vibration=-3438.67</td>\n",
       "    </tr>\n",
       "    <tr>\n",
       "      <th>...</th>\n",
       "      <td>...</td>\n",
       "      <td>...</td>\n",
       "      <td>...</td>\n",
       "      <td>...</td>\n",
       "      <td>...</td>\n",
       "    </tr>\n",
       "    <tr>\n",
       "      <th>110932</th>\n",
       "      <td>2019-12-09 09:26:38</td>\n",
       "      <td>ERROR</td>\n",
       "      <td>sensor 27</td>\n",
       "      <td>temperature=472.36</td>\n",
       "      <td>vibration=9660.13</td>\n",
       "    </tr>\n",
       "    <tr>\n",
       "      <th>110933</th>\n",
       "      <td>2019-12-09 09:26:38</td>\n",
       "      <td>ERROR</td>\n",
       "      <td>sensor 51</td>\n",
       "      <td>temperature=134.64</td>\n",
       "      <td>vibration=-736.71</td>\n",
       "    </tr>\n",
       "    <tr>\n",
       "      <th>110934</th>\n",
       "      <td>2019-12-09 09:26:38</td>\n",
       "      <td>ERROR</td>\n",
       "      <td>sensor 56</td>\n",
       "      <td>temperature=388.94</td>\n",
       "      <td>vibration=1237.49</td>\n",
       "    </tr>\n",
       "    <tr>\n",
       "      <th>110935</th>\n",
       "      <td>2019-12-09 09:26:38</td>\n",
       "      <td>ERROR</td>\n",
       "      <td>sensor 81</td>\n",
       "      <td>temperature=82.97</td>\n",
       "      <td>vibration=-1871.2</td>\n",
       "    </tr>\n",
       "    <tr>\n",
       "      <th>110936</th>\n",
       "      <td>2019-12-09 09:26:38</td>\n",
       "      <td>ERROR</td>\n",
       "      <td>sensor 89</td>\n",
       "      <td>temperature=204.79</td>\n",
       "      <td>vibration=-6460.27</td>\n",
       "    </tr>\n",
       "  </tbody>\n",
       "</table>\n",
       "<p>110937 rows × 5 columns</p>\n",
       "</div>"
      ],
      "text/plain": [
       "                   datetime status     sensor         temperature  \\\n",
       "0       2019-12-10 10:46:09  ERROR   sensor 5  temperature=365.26   \n",
       "1       2019-12-10 10:46:09  ERROR  sensor 43  temperature=458.47   \n",
       "2       2019-12-10 10:46:09  ERROR  sensor 44   temperature=57.16   \n",
       "3       2019-12-10 10:46:09  ERROR  sensor 67  temperature=106.69   \n",
       "4       2019-12-02 06:53:29  ERROR   sensor 5   temperature=26.42   \n",
       "...                     ...    ...        ...                 ...   \n",
       "110932  2019-12-09 09:26:38  ERROR  sensor 27  temperature=472.36   \n",
       "110933  2019-12-09 09:26:38  ERROR  sensor 51  temperature=134.64   \n",
       "110934  2019-12-09 09:26:38  ERROR  sensor 56  temperature=388.94   \n",
       "110935  2019-12-09 09:26:38  ERROR  sensor 81   temperature=82.97   \n",
       "110936  2019-12-09 09:26:38  ERROR  sensor 89  temperature=204.79   \n",
       "\n",
       "                  vibration  \n",
       "0        vibration=-6305.32  \n",
       "1          vibration=-58.41  \n",
       "2         vibration=-999.66  \n",
       "3        vibration=-4659.02  \n",
       "4        vibration=-3438.67  \n",
       "...                     ...  \n",
       "110932    vibration=9660.13  \n",
       "110933    vibration=-736.71  \n",
       "110934    vibration=1237.49  \n",
       "110935    vibration=-1871.2  \n",
       "110936   vibration=-6460.27  \n",
       "\n",
       "[110937 rows x 5 columns]"
      ]
     },
     "execution_count": 21,
     "metadata": {},
     "output_type": "execute_result"
    }
   ],
   "source": [
    "equip_fail_sensors = pd.read_csv(path_folder+\"equipment_failure_sensors_new.log\", sep=\";\", names=[\"datetime\",\"status\",\"sensor\",\"temperature\",\"vibration\"])\n",
    "equip_fail_sensors"
   ]
  },
  {
   "cell_type": "markdown",
   "id": "ac973229-d348-4fe5-bf72-b93301e74e2d",
   "metadata": {},
   "source": [
    "    5. For the columns sensor, temperature and vibration, we must keep just the values"
   ]
  },
  {
   "cell_type": "code",
   "execution_count": 10,
   "id": "f5481fe3-ae75-4412-94d2-c3c12eb2f66c",
   "metadata": {},
   "outputs": [],
   "source": [
    "# Columns sensor\n",
    "equip_fail_sensors[\"sensor\"] = equip_fail_sensors[\"sensor\"].apply(lambda char: char.split(\" \")[1])"
   ]
  },
  {
   "cell_type": "code",
   "execution_count": 11,
   "id": "d19b89cc-ccae-4fb7-a92a-5c7e16298e02",
   "metadata": {},
   "outputs": [],
   "source": [
    "# Columns temperature\n",
    "equip_fail_sensors[\"temperature\"] = equip_fail_sensors[\"temperature\"].apply(lambda char: char.split(\"=\")[1])"
   ]
  },
  {
   "cell_type": "code",
   "execution_count": 12,
   "id": "a215befc-9574-46ed-b418-4d7aa088633d",
   "metadata": {},
   "outputs": [],
   "source": [
    "# Columns temperature\n",
    "equip_fail_sensors[\"vibration\"] = equip_fail_sensors[\"vibration\"].apply(lambda char: char.split(\"=\")[1])"
   ]
  },
  {
   "cell_type": "code",
   "execution_count": 13,
   "id": "4733e2ec-511d-417a-a043-ce98c753721d",
   "metadata": {},
   "outputs": [
    {
     "data": {
      "text/html": [
       "<div>\n",
       "<style scoped>\n",
       "    .dataframe tbody tr th:only-of-type {\n",
       "        vertical-align: middle;\n",
       "    }\n",
       "\n",
       "    .dataframe tbody tr th {\n",
       "        vertical-align: top;\n",
       "    }\n",
       "\n",
       "    .dataframe thead th {\n",
       "        text-align: right;\n",
       "    }\n",
       "</style>\n",
       "<table border=\"1\" class=\"dataframe\">\n",
       "  <thead>\n",
       "    <tr style=\"text-align: right;\">\n",
       "      <th></th>\n",
       "      <th>datetime</th>\n",
       "      <th>status</th>\n",
       "      <th>sensor</th>\n",
       "      <th>temperature</th>\n",
       "      <th>vibration</th>\n",
       "    </tr>\n",
       "  </thead>\n",
       "  <tbody>\n",
       "    <tr>\n",
       "      <th>0</th>\n",
       "      <td>2019-12-10 10:46:09</td>\n",
       "      <td>ERROR</td>\n",
       "      <td>5</td>\n",
       "      <td>365.26</td>\n",
       "      <td>-6305.32</td>\n",
       "    </tr>\n",
       "    <tr>\n",
       "      <th>1</th>\n",
       "      <td>2019-12-10 10:46:09</td>\n",
       "      <td>ERROR</td>\n",
       "      <td>43</td>\n",
       "      <td>458.47</td>\n",
       "      <td>-58.41</td>\n",
       "    </tr>\n",
       "    <tr>\n",
       "      <th>2</th>\n",
       "      <td>2019-12-10 10:46:09</td>\n",
       "      <td>ERROR</td>\n",
       "      <td>44</td>\n",
       "      <td>57.16</td>\n",
       "      <td>-999.66</td>\n",
       "    </tr>\n",
       "    <tr>\n",
       "      <th>3</th>\n",
       "      <td>2019-12-10 10:46:09</td>\n",
       "      <td>ERROR</td>\n",
       "      <td>67</td>\n",
       "      <td>106.69</td>\n",
       "      <td>-4659.02</td>\n",
       "    </tr>\n",
       "    <tr>\n",
       "      <th>4</th>\n",
       "      <td>2019-12-02 06:53:29</td>\n",
       "      <td>ERROR</td>\n",
       "      <td>5</td>\n",
       "      <td>26.42</td>\n",
       "      <td>-3438.67</td>\n",
       "    </tr>\n",
       "    <tr>\n",
       "      <th>...</th>\n",
       "      <td>...</td>\n",
       "      <td>...</td>\n",
       "      <td>...</td>\n",
       "      <td>...</td>\n",
       "      <td>...</td>\n",
       "    </tr>\n",
       "    <tr>\n",
       "      <th>110932</th>\n",
       "      <td>2019-12-09 09:26:38</td>\n",
       "      <td>ERROR</td>\n",
       "      <td>27</td>\n",
       "      <td>472.36</td>\n",
       "      <td>9660.13</td>\n",
       "    </tr>\n",
       "    <tr>\n",
       "      <th>110933</th>\n",
       "      <td>2019-12-09 09:26:38</td>\n",
       "      <td>ERROR</td>\n",
       "      <td>51</td>\n",
       "      <td>134.64</td>\n",
       "      <td>-736.71</td>\n",
       "    </tr>\n",
       "    <tr>\n",
       "      <th>110934</th>\n",
       "      <td>2019-12-09 09:26:38</td>\n",
       "      <td>ERROR</td>\n",
       "      <td>56</td>\n",
       "      <td>388.94</td>\n",
       "      <td>1237.49</td>\n",
       "    </tr>\n",
       "    <tr>\n",
       "      <th>110935</th>\n",
       "      <td>2019-12-09 09:26:38</td>\n",
       "      <td>ERROR</td>\n",
       "      <td>81</td>\n",
       "      <td>82.97</td>\n",
       "      <td>-1871.2</td>\n",
       "    </tr>\n",
       "    <tr>\n",
       "      <th>110936</th>\n",
       "      <td>2019-12-09 09:26:38</td>\n",
       "      <td>ERROR</td>\n",
       "      <td>89</td>\n",
       "      <td>204.79</td>\n",
       "      <td>-6460.27</td>\n",
       "    </tr>\n",
       "  </tbody>\n",
       "</table>\n",
       "<p>110937 rows × 5 columns</p>\n",
       "</div>"
      ],
      "text/plain": [
       "                   datetime status sensor temperature vibration\n",
       "0       2019-12-10 10:46:09  ERROR      5      365.26  -6305.32\n",
       "1       2019-12-10 10:46:09  ERROR     43      458.47    -58.41\n",
       "2       2019-12-10 10:46:09  ERROR     44       57.16   -999.66\n",
       "3       2019-12-10 10:46:09  ERROR     67      106.69  -4659.02\n",
       "4       2019-12-02 06:53:29  ERROR      5       26.42  -3438.67\n",
       "...                     ...    ...    ...         ...       ...\n",
       "110932  2019-12-09 09:26:38  ERROR     27      472.36   9660.13\n",
       "110933  2019-12-09 09:26:38  ERROR     51      134.64   -736.71\n",
       "110934  2019-12-09 09:26:38  ERROR     56      388.94   1237.49\n",
       "110935  2019-12-09 09:26:38  ERROR     81       82.97   -1871.2\n",
       "110936  2019-12-09 09:26:38  ERROR     89      204.79  -6460.27\n",
       "\n",
       "[110937 rows x 5 columns]"
      ]
     },
     "execution_count": 13,
     "metadata": {},
     "output_type": "execute_result"
    }
   ],
   "source": [
    "equip_fail_sensors"
   ]
  },
  {
   "cell_type": "markdown",
   "id": "92a0f210-2104-40f7-9be0-89ff0cf9b424",
   "metadata": {},
   "source": [
    "    6. Joining datasets to create an analytical one.\n",
    "        Auxiliary dataframes:\n",
    "        - equipemnt_df\n",
    "        - equip_sensor_df\n",
    "        - equip_fail_sensors(log)"
   ]
  },
  {
   "cell_type": "code",
   "execution_count": 18,
   "id": "aed87940-1d2a-47f7-874c-5b3fb1c32d1d",
   "metadata": {},
   "outputs": [],
   "source": [
    "# joining equipment and sensor dataframes\n",
    "equip_sensor_join_df = equipemnt_df.join(equip_sensor_df, on=\"equipment_id\", how=\"inner\", lsuffix=\"_caller\")"
   ]
  },
  {
   "cell_type": "code",
   "execution_count": 23,
   "id": "1ccd4cc9-cb86-46d9-be35-cc3d4db6fc10",
   "metadata": {},
   "outputs": [
    {
     "data": {
      "text/plain": [
       "110937"
      ]
     },
     "execution_count": 23,
     "metadata": {},
     "output_type": "execute_result"
    }
   ],
   "source": [
    "# Joining equip_sensor_join_df and equip_fail_sensor\n",
    "len(equip_fail_sensors)"
   ]
  },
  {
   "cell_type": "code",
   "execution_count": null,
   "id": "3cb1b4d1-95c2-48e9-97b4-24ede4e510cc",
   "metadata": {},
   "outputs": [],
   "source": [
    "errors_by_equipment_final_df = equip_fail_sensors.join(equip_sensor_join_df, on=[\"equipment_id\", how=\"inner\", lsuffix=\"_caller\")"
   ]
  },
  {
   "cell_type": "code",
   "execution_count": 24,
   "id": "1e25a932-f0ca-405a-9c4b-a1eaf62281ea",
   "metadata": {},
   "outputs": [
    {
     "data": {
      "text/plain": [
       "Index(['datetime', 'status', 'sensor', 'temperature', 'vibration'], dtype='object')"
      ]
     },
     "execution_count": 24,
     "metadata": {},
     "output_type": "execute_result"
    }
   ],
   "source": [
    "equip_fail_sensors.columns"
   ]
  },
  {
   "cell_type": "code",
   "execution_count": 25,
   "id": "174f7026-0926-4e15-8865-f0af77ca5a2a",
   "metadata": {},
   "outputs": [
    {
     "data": {
      "text/plain": [
       "Index(['equipment_id_caller', 'code', 'group_name', 'equipment_id',\n",
       "       'sensor_id'],\n",
       "      dtype='object')"
      ]
     },
     "execution_count": 25,
     "metadata": {},
     "output_type": "execute_result"
    }
   ],
   "source": [
    "equip_sensor_join_df.columns"
   ]
  },
  {
   "cell_type": "code",
   "execution_count": null,
   "id": "6beab6be-dad4-4df0-82d0-38386aa6f3fc",
   "metadata": {},
   "outputs": [],
   "source": []
  }
 ],
 "metadata": {
  "kernelspec": {
   "display_name": "Python 3 (ipykernel)",
   "language": "python",
   "name": "python3"
  },
  "language_info": {
   "codemirror_mode": {
    "name": "ipython",
    "version": 3
   },
   "file_extension": ".py",
   "mimetype": "text/x-python",
   "name": "python",
   "nbconvert_exporter": "python",
   "pygments_lexer": "ipython3",
   "version": "3.9.7"
  }
 },
 "nbformat": 4,
 "nbformat_minor": 5
}
